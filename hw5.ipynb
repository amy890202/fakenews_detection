{
 "cells": [
  {
   "cell_type": "code",
   "execution_count": 1,
   "metadata": {},
   "outputs": [],
   "source": [
    "import pandas as pd\n",
    "import numpy as np\n",
    "from sklearn.feature_extraction.text import CountVectorizer\n",
    "from sklearn.feature_extraction.text import TfidfTransformer\n",
    "from gensim.test.utils import common_texts\n",
    "from gensim.models import Word2Vec,word2vec\n",
    "from keras.preprocessing import sequence\n",
    "from keras.preprocessing.text import Tokenizer\n",
    "import matplotlib.pyplot as plt  "
   ]
  },
  {
   "cell_type": "code",
   "execution_count": 2,
   "metadata": {},
   "outputs": [],
   "source": [
    "def show_train_acc_history(train, val):\n",
    "    plt.figure()\n",
    "    plt.plot(train_history.history[train])\n",
    "    plt.plot(train_history.history[val])\n",
    "    plt.title(\"Train History\")\n",
    "    plt.xlabel(\"Epoch\")\n",
    "    plt.ylabel(\"Accuracy\")\n",
    "    plt.legend([\"train\", \"validation\"], loc=\"upper left\")\n",
    "    plt.show()\n",
    "\n",
    "    \n",
    "\n",
    "def show_train_loss_history(train, val):\n",
    "    plt.figure()\n",
    "    plt.plot(train_history.history[train])\n",
    "    plt.plot(train_history.history[val])\n",
    "    plt.title(\"Train History\")\n",
    "    plt.xlabel(\"Epoch\")\n",
    "    plt.ylabel(\"Loss\")\n",
    "    plt.legend([\"train\", \"validation\"], loc=\"upper left\")\n",
    "    plt.show()  "
   ]
  },
  {
   "cell_type": "code",
   "execution_count": 3,
   "metadata": {},
   "outputs": [],
   "source": [
    "test = pd.read_csv(\"test.csv\", delimiter=\"\\t\")#,error_bad_lines=False\n",
    "train = pd.read_csv(\"train.csv\", delimiter=\"\\t\")#,error_bad_lines=False\n",
    "sub = pd.read_csv(\"sample_submission.csv\").dropna(how='all', axis=1)\n",
    "train= train.drop([1615])\n",
    "value_list = [row[0] for row in train.itertuples(index=False, name=None)]#tainx\n",
    "label = [row[1] for row in train.itertuples(index=False, name=None)]#trainy\n",
    "ans = [row[1] for row in sub.itertuples(index=False, name=None)]#testy\n",
    "test_list = [row[1] for row in test.itertuples(index=False, name=None)]#testx\n",
    "\n",
    "\n",
    "new_numbers = []\n",
    "for n in label:\n",
    "    new_numbers.append(int(n))\n",
    "label = new_numbers"
   ]
  },
  {
   "cell_type": "code",
   "execution_count": 4,
   "metadata": {},
   "outputs": [
    {
     "name": "stderr",
     "output_type": "stream",
     "text": [
      "[nltk_data] Downloading package stopwords to\n",
      "[nltk_data]     C:\\Users\\user\\AppData\\Roaming\\nltk_data...\n",
      "[nltk_data]   Package stopwords is already up-to-date!\n"
     ]
    }
   ],
   "source": [
    "import nltk\n",
    "nltk.download('stopwords')\n",
    "nltk_stopwords = nltk.corpus.stopwords.words('english')\n",
    "\n",
    "import spacy\n",
    "\n",
    "nlp = spacy.load('en_core_web_sm')\n",
    "spacy_stopwords = spacy.lang.en.stop_words.STOP_WORDS\n",
    "\"\"\"\n",
    "#stop_words=['the', 'a','and','an','he','she','her','him','his']\n",
    "cv = CountVectorizer(max_df=1.0, min_df=1, max_features=None,stop_words=nltk_stopwords)#(max_df=0.95, min_df=2,\n",
    "#統計每個詞語的tf-idf權值\n",
    "cv = cv.fit_transform(value_list)\n",
    "\"\"\"\n",
    "filtered_word_list = value_list[:] #make a copy of the word_list\n",
    "for i in range(len(filtered_word_list)): # iterate over word_list\n",
    "    filtered_word_list[i] = [word for word in filtered_word_list[i].split() if word not in nltk_stopwords]\n",
    "\n",
    "filtered_test_list = test_list[:] #make a copy of the word_list\n",
    "for i in range(len(filtered_test_list)): # iterate over word_list   \n",
    "    filtered_test_list[i] = [word for word in filtered_test_list[i].split() if word not in nltk_stopwords]\n"
   ]
  },
  {
   "cell_type": "code",
   "execution_count": 5,
   "metadata": {},
   "outputs": [],
   "source": [
    "model = word2vec.Word2Vec(sentences=common_texts, window=5, min_count=1, workers=4)#vector_size=100,\n",
    "#model = word2vec.Word2Vec(sentences, size=5, min_count=1, negative=10)\n",
    "model.save(\"word2vec.model\")\n",
    "model = Word2Vec.load(\"word2vec.model\")\n",
    "\n",
    "#x_train = cv.fit_transform(value_list)\n",
    "#To train Word2Vec it is better not to remove stop words because the algorithm relies on the broader context of the sentence in order to produce high-quality word vectors\n",
    "model.train(value_list, total_examples=1, epochs=1)\n",
    "\n",
    "#vector = model.wv['computer']\n",
    "word_vectors = model.wv\n",
    "\n"
   ]
  },
  {
   "cell_type": "code",
   "execution_count": 6,
   "metadata": {},
   "outputs": [],
   "source": [
    "#建立Token\n",
    "token = Tokenizer(num_words=3800) \n",
    "#使用Tokenizer模組建立token，建立一個3800字的字典\n",
    "token.fit_on_texts(filtered_word_list)  \n",
    "#讀取所有訓練資料，依照每個英文字在訓練資料出現的次數進行排序，\n",
    "#前3800名的英文單字會加進字典中\n",
    "token.word_index\n",
    "#可以看到它將英文字轉為數字的結果，例如:the轉換成1\n",
    "\n",
    "x_train_seq = token.texts_to_sequences(filtered_word_list)\n",
    "x_test_seq = token.texts_to_sequences(filtered_test_list)\n",
    "#透過texts_to_sequences可以將訓練和測試集資料中的文字轉換為數字list\n",
    "\n",
    "x_train = sequence.pad_sequences(x_train_seq, maxlen=380)\n",
    "x_test = sequence.pad_sequences(x_test_seq, maxlen=380)\n",
    "#長度小於380的，前面的數字補0\n",
    "#長度大於380的，截去前面的數字\n"
   ]
  },
  {
   "cell_type": "code",
   "execution_count": 7,
   "metadata": {},
   "outputs": [],
   "source": [
    "transformer = TfidfTransformer()\n",
    "#第一個fit_transform是計算tf-idf，第二個fit_transform是將文本轉詞本矩陣\n",
    "x_traint = transformer.fit_transform(x_train) \n",
    "x_testt  = transformer.transform(x_test) #匯入模組\n"
   ]
  },
  {
   "cell_type": "code",
   "execution_count": 8,
   "metadata": {},
   "outputs": [
    {
     "name": "stdout",
     "output_type": "stream",
     "text": [
      "Model: \"sequential\"\n",
      "_________________________________________________________________\n",
      "Layer (type)                 Output Shape              Param #   \n",
      "=================================================================\n",
      "embedding (Embedding)        (None, 380, 32)           121600    \n",
      "_________________________________________________________________\n",
      "dropout (Dropout)            (None, 380, 32)           0         \n",
      "_________________________________________________________________\n",
      "simple_rnn (SimpleRNN)       (None, 16)                784       \n",
      "_________________________________________________________________\n",
      "dense (Dense)                (None, 256)               4352      \n",
      "_________________________________________________________________\n",
      "dropout_1 (Dropout)          (None, 256)               0         \n",
      "_________________________________________________________________\n",
      "dense_1 (Dense)              (None, 1)                 257       \n",
      "=================================================================\n",
      "Total params: 126,993\n",
      "Trainable params: 126,993\n",
      "Non-trainable params: 0\n",
      "_________________________________________________________________\n",
      "Epoch 1/10\n",
      "40/40 - 3s - loss: 0.6805 - accuracy: 0.5860 - val_loss: 0.6714 - val_accuracy: 0.5922\n",
      "Epoch 2/10\n",
      "40/40 - 3s - loss: 0.6541 - accuracy: 0.6254 - val_loss: 0.6339 - val_accuracy: 0.6633\n",
      "Epoch 3/10\n",
      "40/40 - 3s - loss: 0.5486 - accuracy: 0.7347 - val_loss: 0.5551 - val_accuracy: 0.7445\n",
      "Epoch 4/10\n",
      "40/40 - 3s - loss: 0.4597 - accuracy: 0.8007 - val_loss: 0.5860 - val_accuracy: 0.7345\n",
      "Epoch 5/10\n",
      "40/40 - 3s - loss: 0.4188 - accuracy: 0.8225 - val_loss: 0.6405 - val_accuracy: 0.7214\n",
      "Epoch 6/10\n",
      "40/40 - 3s - loss: 0.3619 - accuracy: 0.8538 - val_loss: 0.6882 - val_accuracy: 0.7244\n",
      "Epoch 7/10\n",
      "40/40 - 3s - loss: 0.3242 - accuracy: 0.8699 - val_loss: 0.7362 - val_accuracy: 0.7234\n",
      "Epoch 8/10\n",
      "40/40 - 3s - loss: 0.3105 - accuracy: 0.8759 - val_loss: 0.6855 - val_accuracy: 0.7144\n",
      "Epoch 9/10\n",
      "40/40 - 3s - loss: 0.2724 - accuracy: 0.8964 - val_loss: 0.7774 - val_accuracy: 0.7335\n",
      "Epoch 10/10\n",
      "40/40 - 3s - loss: 0.2460 - accuracy: 0.9025 - val_loss: 0.8232 - val_accuracy: 0.7224\n"
     ]
    },
    {
     "data": {
      "image/png": "[encoded data removed]",
      "text/plain": [
       "<Figure size 432x288 with 1 Axes>"
      ]
     },
     "metadata": {
      "needs_background": "light"
     },
     "output_type": "display_data"
    },
    {
     "data": {
      "image/png": "[encoded data removed]",
      "text/plain": [
       "<Figure size 432x288 with 1 Axes>"
      ]
     },
     "metadata": {
      "needs_background": "light"
     },
     "output_type": "display_data"
    },
    {
     "name": "stdout",
     "output_type": "stream",
     "text": [
      "39/39 [==============================] - 0s 10ms/step - loss: 1.6457 - accuracy: 0.4916\n",
      "[1.645721197128296, 0.4915798008441925]\n",
      "accuracy =  0.4915798008441925\n"
     ]
    }
   ],
   "source": [
    "from keras.models import Sequential\n",
    "from keras.layers.core import Dense,Dropout,Activation,Flatten\n",
    "from keras.layers.embeddings import Embedding\n",
    "from keras.layers.recurrent import SimpleRNN\n",
    "\n",
    "#建立Keras的Sequential模型\n",
    "modelRNN = Sequential()  #建立模型\n",
    "#Embedding層將「數字list」轉換成「向量list」\n",
    "modelRNN.add(Embedding(output_dim=32,   #輸出的維度是32，希望將數字list轉換為32維度的向量\n",
    "     input_dim=3800,  #輸入的維度是3800，也就是我們之前建立的字典是3800字\n",
    "     input_length=380)) #數字list截長補短後都是380個數字\n",
    "\n",
    "#加入Dropout，避免overfitting\n",
    "modelRNN.add(Dropout(0.7)) \t#隨機在神經網路中放棄70%的神經元，避免overfitting\n",
    "\n",
    "#建立RNN層\n",
    "modelRNN.add(SimpleRNN(units=16))\n",
    " #建立16個神經元的RNN層\n",
    "\n",
    "#建立隱藏層\n",
    "modelRNN.add(Dense(units=256,activation='relu')) \n",
    "#建立256個神經元的隱藏層\n",
    "#ReLU激活函數\n",
    "modelRNN.add(Dropout(0.7))\n",
    "\n",
    "#建立輸出層\n",
    "modelRNN.add(Dense(units=1,activation='sigmoid'))\n",
    "#建立一個神經元的輸出層\n",
    "#Sigmoid激活函數\n",
    "\n",
    "#查看模型摘要\n",
    "modelRNN.summary()\n",
    "#定義訓練模型\n",
    "modelRNN.compile(loss='binary_crossentropy',\n",
    "     optimizer='adam',\n",
    "     metrics=['accuracy']) \n",
    "#import torch   pip uninstall torch\n",
    "#train_history = modelRNN.fit(outputs, torch.Tensor(label), \n",
    "#xxx = outputs.numpy()#outputs.numpy().astype(np.int32)\n",
    "train_history = modelRNN.fit(x_train, np.array(label), \n",
    "         epochs=10,#10 \n",
    "         batch_size=100,\n",
    "         verbose=2,\n",
    "         validation_split=0.2)#,callbacks=ModelCheckpoint(\"model_{binary_accuracy}.hdf5\") \n",
    "\n",
    "#validation_split =0.2 設定80%訓練資料、20%驗證資料\n",
    "#執行10次訓練週期\n",
    "#每一批次訓練100筆資料\n",
    "#verbose 顯示訓練過程\n",
    "\n",
    "show_train_acc_history('accuracy', 'val_accuracy') \n",
    "show_train_loss_history('loss', 'val_loss')\n",
    "\n",
    "scores = modelRNN.evaluate(x_test,  np.array(ans),verbose=1)#x_test.A\n",
    "print(scores)\n",
    "print(\"accuracy = \",scores[1])\n",
    "#使用test測試資料及評估準確率\n"
   ]
  },
  {
   "cell_type": "code",
   "execution_count": 9,
   "metadata": {},
   "outputs": [
    {
     "name": "stdout",
     "output_type": "stream",
     "text": [
      "Model: \"sequential_1\"\n",
      "_________________________________________________________________\n",
      "Layer (type)                 Output Shape              Param #   \n",
      "=================================================================\n",
      "embedding_1 (Embedding)      (None, 380, 32)           121600    \n",
      "_________________________________________________________________\n",
      "dropout_2 (Dropout)          (None, 380, 32)           0         \n",
      "_________________________________________________________________\n",
      "lstm (LSTM)                  (None, 32)                8320      \n",
      "_________________________________________________________________\n",
      "dense_2 (Dense)              (None, 256)               8448      \n",
      "_________________________________________________________________\n",
      "dropout_3 (Dropout)          (None, 256)               0         \n",
      "_________________________________________________________________\n",
      "dense_3 (Dense)              (None, 1)                 257       \n",
      "=================================================================\n",
      "Total params: 138,625\n",
      "Trainable params: 138,625\n",
      "Non-trainable params: 0\n",
      "_________________________________________________________________\n"
     ]
    }
   ],
   "source": [
    "from keras.models import Sequential\n",
    "from keras.layers.core import Dense,Dropout,Activation,Flatten\n",
    "from keras.layers.embeddings import Embedding\n",
    "from keras.layers.recurrent import LSTM\n",
    "\n",
    "modelLSTM = Sequential() #建立模型\n",
    "\n",
    "modelLSTM.add(Embedding(output_dim=32,   #輸出的維度是32，希望將數字list轉換為32維度的向量\n",
    "     input_dim=3800,  #輸入的維度是3800，也就是我們之前建立的字典是3800字\n",
    "     input_length=380)) #數字list截長補短後都是380個數字\n",
    "\n",
    "\n",
    "\n",
    "modelLSTM.add(Dropout(0.7)) #隨機在神經網路中放棄70%的神經元，避免overfitting\n",
    "\n",
    "#建立LSTM層\n",
    "modelLSTM .add(LSTM(32)) \n",
    "#建立32個神經元的LSTM層\n",
    "\n",
    "#建立隱藏層\n",
    "modelLSTM.add(Dense(units=256,activation='relu')) \n",
    "#建立256個神經元的隱藏層\n",
    "modelLSTM.add(Dropout(0.7))\n",
    "\n",
    "#建立輸出層\n",
    "modelLSTM.add(Dense(units=1,activation='sigmoid'))\n",
    " #建立一個神經元的輸出層\n",
    "#查看模型摘要\n",
    "modelLSTM.summary()"
   ]
  },
  {
   "cell_type": "code",
   "execution_count": 10,
   "metadata": {},
   "outputs": [
    {
     "name": "stdout",
     "output_type": "stream",
     "text": [
      "Epoch 1/10\n",
      "40/40 - 6s - loss: 0.6790 - accuracy: 0.5935 - val_loss: 0.6708 - val_accuracy: 0.5922\n",
      "Epoch 2/10\n",
      "40/40 - 6s - loss: 0.6354 - accuracy: 0.6344 - val_loss: 0.6018 - val_accuracy: 0.6764\n",
      "Epoch 3/10\n",
      "40/40 - 6s - loss: 0.4948 - accuracy: 0.7691 - val_loss: 0.5636 - val_accuracy: 0.7224\n",
      "Epoch 4/10\n",
      "40/40 - 6s - loss: 0.3902 - accuracy: 0.8265 - val_loss: 0.5683 - val_accuracy: 0.7305\n",
      "Epoch 5/10\n",
      "40/40 - 6s - loss: 0.3237 - accuracy: 0.8679 - val_loss: 0.6162 - val_accuracy: 0.7265\n",
      "Epoch 6/10\n",
      "40/40 - 6s - loss: 0.2877 - accuracy: 0.8877 - val_loss: 0.6824 - val_accuracy: 0.7325\n",
      "Epoch 7/10\n",
      "40/40 - 6s - loss: 0.2501 - accuracy: 0.9035 - val_loss: 0.7766 - val_accuracy: 0.7315\n",
      "Epoch 8/10\n",
      "40/40 - 6s - loss: 0.2265 - accuracy: 0.9120 - val_loss: 0.8030 - val_accuracy: 0.7285\n",
      "Epoch 9/10\n",
      "40/40 - 5s - loss: 0.1976 - accuracy: 0.9253 - val_loss: 0.9092 - val_accuracy: 0.7305\n",
      "Epoch 10/10\n",
      "40/40 - 6s - loss: 0.1809 - accuracy: 0.9318 - val_loss: 0.9356 - val_accuracy: 0.7285\n",
      "39/39 [==============================] - 1s 22ms/step - loss: 2.0561 - accuracy: 0.5004\n",
      "[2.0561413764953613, 0.500400960445404]\n",
      "accuracy =  0.500400960445404\n"
     ]
    },
    {
     "data": {
      "image/png": "[encoded data removed]",
      "text/plain": [
       "<Figure size 432x288 with 1 Axes>"
      ]
     },
     "metadata": {
      "needs_background": "light"
     },
     "output_type": "display_data"
    },
    {
     "data": {
      "image/png": "[encoded data removed]",
      "text/plain": [
       "<Figure size 432x288 with 1 Axes>"
      ]
     },
     "metadata": {
      "needs_background": "light"
     },
     "output_type": "display_data"
    }
   ],
   "source": [
    "#訓練模型參數同RNN\n",
    "modelLSTM.compile(loss='binary_crossentropy',\n",
    "     optimizer='adam',\n",
    "     metrics=['accuracy']) \n",
    "\n",
    "train_history = modelLSTM.fit(x_train, np.array(label), \n",
    "         epochs=10, \n",
    "         batch_size=100,\n",
    "         verbose=2,\n",
    "         validation_split=0.2)\n",
    "\n",
    "\n",
    "#評估模型準確率\n",
    "scores = modelLSTM.evaluate(x_test,  np.array(ans),verbose=1)\n",
    "print(scores)\n",
    "print(\"accuracy = \",scores[1])\n",
    "\n",
    "show_train_acc_history('accuracy', 'val_accuracy') \n",
    "show_train_loss_history('loss', 'val_loss')\n",
    "\n"
   ]
  },
  {
   "cell_type": "code",
   "execution_count": null,
   "metadata": {},
   "outputs": [],
   "source": []
  }
 ],
 "metadata": {
  "kernelspec": {
   "display_name": "Python 3",
   "language": "python",
   "name": "python3"
  },
  "language_info": {
   "codemirror_mode": {
    "name": "ipython",
    "version": 3
   },
   "file_extension": ".py",
   "mimetype": "text/x-python",
   "name": "python",
   "nbconvert_exporter": "python",
   "pygments_lexer": "ipython3",
   "version": "3.8.3"
  }
 },
 "nbformat": 4,
 "nbformat_minor": 4
}
